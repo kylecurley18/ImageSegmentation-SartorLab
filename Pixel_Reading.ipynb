{
 "cells": [
  {
   "cell_type": "code",
   "execution_count": 5,
   "id": "dca18e45-7d05-462e-8f98-0ed872893505",
   "metadata": {},
   "outputs": [],
   "source": [
    "import cv2\n",
    "import numpy as np"
   ]
  },
  {
   "cell_type": "code",
   "execution_count": 6,
   "id": "77ebfb0d-6506-46e2-aa92-e15e2e395b27",
   "metadata": {},
   "outputs": [
    {
     "name": "stdout",
     "output_type": "stream",
     "text": [
      "(640, 640, 3)\n"
     ]
    }
   ],
   "source": [
    "img = cv2.imread('/home/liftlab/ImageSegmentation/runs/segment/predict5/merged_segs.jpg')\n",
    "print(img.shape)\n",
    "h, w, c = img.shape\n",
    "sub_w = w // 3\n",
    "if h > 480 :\n",
    "    sub_img1 = img[100:380, 70:sub_w+15, :]\n",
    "    sub_img2 = img[100:380, sub_w+15:2*sub_w-20, :]\n",
    "    sub_img3 = img[100:380, 2*sub_w-20:590, :]\n",
    "else:\n",
    "    sub_img1 = img[100:300, 70:sub_w+15, :]\n",
    "    sub_img2 = img[100:300, sub_w+15:2*sub_w-20, :]\n",
    "    sub_img3 = img[100:300, 2*sub_w-20:590, :]\n",
    "cv2.imshow('sub im1', sub_img1)\n",
    "cv2.waitKey(0)\n",
    "cv2.imshow('sub im2', sub_img2)\n",
    "cv2.waitKey(0)\n",
    "cv2.imshow('sub im3', sub_img3)\n",
    "cv2.waitKey(0)\n",
    "cv2.destroyAllWindows()"
   ]
  },
  {
   "cell_type": "code",
   "execution_count": 7,
   "id": "f24f50f4-021f-4907-a05b-1718f81e5557",
   "metadata": {},
   "outputs": [],
   "source": [
    "num_white_pix = np.sum(img == 255)\n",
    "num_black_pix = np.sum(img == 0)\n",
    "white_pix_sub1 = np.sum(sub_img1 == 255)\n",
    "black_pix_sub1 = np.sum(sub_img1 == 0)\n",
    "white_pix_sub2 = np.sum(sub_img2 == 255)\n",
    "black_pix_sub2 = np.sum(sub_img2 == 0)\n",
    "white_pix_sub3 = np.sum(sub_img3 == 255)\n",
    "black_pix_sub3 = np.sum(sub_img3 == 0)\n"
   ]
  },
  {
   "cell_type": "code",
   "execution_count": 8,
   "id": "077f3eb8-0ff6-4fcb-9961-ceae5ffdcf7e",
   "metadata": {},
   "outputs": [
    {
     "name": "stdout",
     "output_type": "stream",
     "text": [
      "Number of white pixels:  77763\n",
      "Number of black pixels:  1120815\n",
      "Number of white pixels in sub image 1:  23463\n",
      "Number of black pixels in sub image 1:  100557\n",
      "Number of white pixels in sub image 2:  24975\n",
      "Number of black pixels in sub image 2:  114624\n",
      "Number of white pixels in sub image 3:  24942\n",
      "Number of black pixels in sub image 3:  119796\n"
     ]
    }
   ],
   "source": [
    "print('Number of white pixels: ', num_white_pix)\n",
    "print('Number of black pixels: ', num_black_pix)\n",
    "print('Number of white pixels in sub image 1: ', white_pix_sub1)\n",
    "print('Number of black pixels in sub image 1: ', black_pix_sub1)\n",
    "print('Number of white pixels in sub image 2: ', white_pix_sub2)\n",
    "print('Number of black pixels in sub image 2: ', black_pix_sub2)\n",
    "print('Number of white pixels in sub image 3: ', white_pix_sub3)\n",
    "print('Number of black pixels in sub image 3: ', black_pix_sub3)\n",
    "\n",
    "\n"
   ]
  },
  {
   "cell_type": "code",
   "execution_count": null,
   "id": "5d688b34-b701-4093-97d1-c5a63150417b",
   "metadata": {},
   "outputs": [],
   "source": []
  },
  {
   "cell_type": "code",
   "execution_count": null,
   "id": "1a6a67d3-7472-426c-8939-501db15abddb",
   "metadata": {},
   "outputs": [],
   "source": []
  }
 ],
 "metadata": {
  "kernelspec": {
   "display_name": "Python 3 (ipykernel)",
   "language": "python",
   "name": "python3"
  },
  "language_info": {
   "codemirror_mode": {
    "name": "ipython",
    "version": 3
   },
   "file_extension": ".py",
   "mimetype": "text/x-python",
   "name": "python",
   "nbconvert_exporter": "python",
   "pygments_lexer": "ipython3",
   "version": "3.10.12"
  }
 },
 "nbformat": 4,
 "nbformat_minor": 5
}
